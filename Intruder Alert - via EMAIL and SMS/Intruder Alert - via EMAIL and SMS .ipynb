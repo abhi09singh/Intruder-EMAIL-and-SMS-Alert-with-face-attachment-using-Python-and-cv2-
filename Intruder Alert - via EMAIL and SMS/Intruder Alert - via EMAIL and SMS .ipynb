{
 "cells": [
  {
   "cell_type": "code",
   "execution_count": null,
   "id": "90460ec9",
   "metadata": {},
   "outputs": [],
   "source": [
    "import cv2"
   ]
  },
  {
   "cell_type": "code",
   "execution_count": null,
   "id": "079eac2c",
   "metadata": {},
   "outputs": [],
   "source": [
    "cap=cv2.VideoCapture(0)\n",
    "ret,photo =cap.read()"
   ]
  },
  {
   "cell_type": "code",
   "execution_count": null,
   "id": "648066ae",
   "metadata": {},
   "outputs": [],
   "source": [
    "model=cv2.CascadeClassifier('haarcascade_frontalface_default.xml')\n",
    "faces=model.detectMultiScale(photo)"
   ]
  },
  {
   "cell_type": "code",
   "execution_count": null,
   "id": "bf2049ec",
   "metadata": {},
   "outputs": [],
   "source": [
    "faces"
   ]
  },
  {
   "cell_type": "code",
   "execution_count": null,
   "id": "9b2e8974",
   "metadata": {},
   "outputs": [],
   "source": [
    "len(faces)"
   ]
  },
  {
   "cell_type": "code",
   "execution_count": null,
   "id": "53fbb4ff",
   "metadata": {
    "scrolled": true
   },
   "outputs": [],
   "source": [
    " cap=cv2.VideoCapture(0)\n",
    "while True:\n",
    "    ret,photo =cap.read()\n",
    "    faces=model.detectMultiScale(photo)\n",
    "    cv2.imwrite(\"a9.jpg\", photo)\n",
    "    if len(faces)==0:\n",
    "        print(\">>>>>>>>>>>> ALL GOOD <<<<<<<<<<<<<<\\n\")\n",
    "        pass\n",
    "    else:\n",
    "        print(\"\\n\\n>>>>>>>>> ALERT...INTRUDER DETECTED>>>>>>>>> Notifying via mail...\")\n",
    "        x1=faces[0][0]\n",
    "        y1=faces[0][1]\n",
    "        x2=x1+faces[0][2]\n",
    "        y2=y1+faces[0][3]\n",
    "        height = faces[0][3]\n",
    "        width = faces[0][2]\n",
    "        aphoto=cv2.rectangle(photo,(x1,y1),(x2,y2),[0,255,0],5)\n",
    "        crop = photo[y1:y1+width, x1:x1+height, :]\n",
    "        cv2.imwrite(\"alert.jpg\", crop)\n",
    "        cv2.imshow(\"alert.jpg\", crop)\n",
    "        \n",
    "        if cv2.waitKey(3000):\n",
    "            break\n",
    "        \n",
    "cv2.destroyAllWindows()"
   ]
  },
  {
   "cell_type": "markdown",
   "id": "20d86b43",
   "metadata": {},
   "source": [
    "# sending mail"
   ]
  },
  {
   "cell_type": "code",
   "execution_count": null,
   "id": "351a2015",
   "metadata": {},
   "outputs": [],
   "source": [
    "import smtplib as s\n",
    "from email.mime.text import MIMEText\n",
    "from email.mime.image import MIMEImage\n",
    "from email.mime.multipart import MIMEMultipart\n",
    "from email.mime.base import MIMEBase\n",
    "from email import encoders"
   ]
  },
  {
   "cell_type": "code",
   "execution_count": null,
   "id": "490e0343",
   "metadata": {},
   "outputs": [],
   "source": [
    "#user configuration\n",
    "sender = \"abhi09singhluvmaths@gmail.com\"\n",
    "receiver = \"abhi09singhrkgit@gmail.com\"\n",
    "password = \"*************\"\n",
    "subject = \"Intruder detected-SEND HELP ASAP\"\n",
    "email_body = \"<h1>Some stranger is trying to invade in your area, Please asure and assist</h1>\"   #string to store body of email"
   ]
  },
  {
   "cell_type": "code",
   "execution_count": null,
   "id": "feacf8e4",
   "metadata": {},
   "outputs": [],
   "source": [
    "#configurating the email information\n",
    "message= MIMEMultipart()\n",
    "message['From']=sender\n",
    "message['To']=receiver\n",
    "message['Subject'] =subject\n",
    "message.attach(MIMEText(email_body, 'html')) #"
   ]
  },
  {
   "cell_type": "code",
   "execution_count": null,
   "id": "0078b75d",
   "metadata": {},
   "outputs": [],
   "source": [
    "#open the file to be sent\n",
    "filename = \"alert.jpg\"\n",
    "attachment = open(\"alert.jpg\", \"rb\")    #read binary from jpg file"
   ]
  },
  {
   "cell_type": "code",
   "execution_count": null,
   "id": "d9d0b1b2",
   "metadata": {},
   "outputs": [],
   "source": [
    "#instance of MIMEBase and named as p\n",
    "p = MIMEBase('application', 'octet-stream')\n",
    "#To change the payload into encoded form\n",
    "p.set_payload((attachment).read())"
   ]
  },
  {
   "cell_type": "code",
   "execution_count": null,
   "id": "16fc0103",
   "metadata": {},
   "outputs": [],
   "source": [
    "#encode into base64\n",
    "encoders.encode_base64(p)\n",
    "p.add_header('Content-Disposition',\"attachment; filename= %s\" % filename)"
   ]
  },
  {
   "cell_type": "code",
   "execution_count": null,
   "id": "c3382b7d",
   "metadata": {},
   "outputs": [],
   "source": [
    "#attach the instance 'p' to instance msg\n",
    "message.attach(p)"
   ]
  },
  {
   "cell_type": "code",
   "execution_count": null,
   "id": "a066faa5",
   "metadata": {},
   "outputs": [],
   "source": [
    "#create SMTP session\n",
    "server=s.SMTP('smtp.gmail.com',587)\n",
    "server.starttls()\n",
    "server.login(sender,password)\n",
    "#covert the multipart message into string\n",
    "text = message.as_string()\n",
    "server.sendmail(sender, receiver, text)\n",
    "print('send successfully....')\n",
    "server.quit()"
   ]
  },
  {
   "cell_type": "markdown",
   "id": "69d5b1a4",
   "metadata": {},
   "source": [
    "# SMS Alert"
   ]
  },
  {
   "cell_type": "code",
   "execution_count": null,
   "id": "26ca31a5",
   "metadata": {},
   "outputs": [],
   "source": [
    "from twilio.rest import Client\n",
    "account_sid = \"ACeb8c*************26e70d6739\"\n",
    "auth_token = \"353718f**************6b7703\"\n",
    "client = Client(account_sid, auth_token)\n",
    "\n",
    "message = client.messages.create( body=\"security alert face detecd\", from_='+12********06', to='+91***********')\n",
    "\n",
    "print(message.sid)"
   ]
  },
  {
   "cell_type": "code",
   "execution_count": null,
   "id": "4379d658",
   "metadata": {},
   "outputs": [],
   "source": [
    "cap.release()"
   ]
  },
  {
   "cell_type": "code",
   "execution_count": null,
   "id": "6c1ce48f",
   "metadata": {},
   "outputs": [],
   "source": []
  }
 ],
 "metadata": {
  "kernelspec": {
   "display_name": "Python 3",
   "language": "python",
   "name": "python3"
  },
  "language_info": {
   "codemirror_mode": {
    "name": "ipython",
    "version": 3
   },
   "file_extension": ".py",
   "mimetype": "text/x-python",
   "name": "python",
   "nbconvert_exporter": "python",
   "pygments_lexer": "ipython3",
   "version": "3.8.8"
  }
 },
 "nbformat": 4,
 "nbformat_minor": 5
}
