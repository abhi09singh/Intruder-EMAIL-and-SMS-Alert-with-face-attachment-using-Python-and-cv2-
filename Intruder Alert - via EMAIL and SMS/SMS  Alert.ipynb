{
 "cells": [
  {
   "cell_type": "code",
   "execution_count": null,
   "id": "707d58f0",
   "metadata": {},
   "outputs": [],
   "source": [
    "from twilio.rest import Client\n",
    "account_sid = \"ACeb8c*************26e70d6739\"\n",
    "auth_token = \"353718f**************6b7703\"\n",
    "client = Client(account_sid, auth_token)\n",
    "\n",
    "message = client.messages.create( body=\"security alert face detecd\", from_='+12********06', to='+91***********')\n",
    "\n",
    "print(message.sid)"
   ]
  }
 ],
 "metadata": {
  "kernelspec": {
   "display_name": "Python 3",
   "language": "python",
   "name": "python3"
  },
  "language_info": {
   "codemirror_mode": {
    "name": "ipython",
    "version": 3
   },
   "file_extension": ".py",
   "mimetype": "text/x-python",
   "name": "python",
   "nbconvert_exporter": "python",
   "pygments_lexer": "ipython3",
   "version": "3.8.8"
  }
 },
 "nbformat": 4,
 "nbformat_minor": 5
}
