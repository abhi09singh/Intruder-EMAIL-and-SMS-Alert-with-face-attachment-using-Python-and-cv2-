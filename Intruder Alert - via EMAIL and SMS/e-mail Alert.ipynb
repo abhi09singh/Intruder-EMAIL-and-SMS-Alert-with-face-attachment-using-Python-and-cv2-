{
 "cells": [
  {
   "cell_type": "code",
   "execution_count": 1,
   "id": "eb3b5ba6",
   "metadata": {},
   "outputs": [],
   "source": [
    "import smtplib as s"
   ]
  },
  {
   "cell_type": "code",
   "execution_count": null,
   "id": "2429e264",
   "metadata": {},
   "outputs": [],
   "source": [
    "from email.mime.text import MIMEText\n",
    "from email.mime.image import MIMEImage\n",
    "from email.mime.multipart import MIMEMultipart\n",
    "from email import encoders"
   ]
  },
  {
   "cell_type": "code",
   "execution_count": null,
   "id": "4f6564b1",
   "metadata": {},
   "outputs": [],
   "source": [
    "sender= \"abhi09singhluvmaths@gmail.com\"\n",
    "receiver=\"abhi09singhrkgit@gmail.com\"\n",
    "password=\"passowrdischangednow@\"\n",
    "subject=\"Intruder detected-SEND HELP ASAP\"\n",
    "email_body=\"Please check and asure the safety\""
   ]
  },
  {
   "cell_type": "code",
   "execution_count": null,
   "id": "d2c5b1ab",
   "metadata": {},
   "outputs": [],
   "source": [
    "message= MIMEMultipart()\n",
    "message['From']=sender\n",
    "message['To']=receiver\n",
    "message['Subject'] =subject\n",
    "message.attach(MIMEText(email_body, 'plain'))"
   ]
  },
  {
   "cell_type": "code",
   "execution_count": null,
   "id": "89d482e4",
   "metadata": {},
   "outputs": [],
   "source": [
    "#open the file to be sent\n",
    "filename = \"alert.jpg\"\n",
    "attachment = open(\"alert.jpg\", \"rb\")    #read binary"
   ]
  },
  {
   "cell_type": "code",
   "execution_count": null,
   "id": "bc6737b8",
   "metadata": {},
   "outputs": [],
   "source": [
    "#instance of MIMEBase and named as p\n",
    "p = MIMEBase('application', 'octet-stream')\n",
    "#To change the payload into encoded form\n",
    "p.set_payload((attachment).read())"
   ]
  },
  {
   "cell_type": "code",
   "execution_count": null,
   "id": "f0a1af8d",
   "metadata": {},
   "outputs": [],
   "source": [
    "#encode into base64\n",
    "encoders.encode_base64(p)\n",
    "p.add_header('Content-Disposition',\"attachment; filename= %s\" % filename)"
   ]
  },
  {
   "cell_type": "code",
   "execution_count": null,
   "id": "7819eb15",
   "metadata": {},
   "outputs": [],
   "source": [
    "#attach the instance 'p' to instance msg\n",
    "msg.attach(p)"
   ]
  },
  {
   "cell_type": "code",
   "execution_count": null,
   "id": "94a8e155",
   "metadata": {},
   "outputs": [],
   "source": [
    "#create SMTP session\n",
    "server=s.SMTP('smtp.gmail.com',587)\n",
    "server.starttls()\n",
    "server.login(sender,password)\n",
    "text = message.as_string()\n",
    "server.sendmail(sender, receiver, text)\n",
    "print('send successfully....')\n",
    "server.quit()"
   ]
  }
 ],
 "metadata": {
  "kernelspec": {
   "display_name": "Python 3",
   "language": "python",
   "name": "python3"
  },
  "language_info": {
   "codemirror_mode": {
    "name": "ipython",
    "version": 3
   },
   "file_extension": ".py",
   "mimetype": "text/x-python",
   "name": "python",
   "nbconvert_exporter": "python",
   "pygments_lexer": "ipython3",
   "version": "3.8.8"
  }
 },
 "nbformat": 4,
 "nbformat_minor": 5
}
